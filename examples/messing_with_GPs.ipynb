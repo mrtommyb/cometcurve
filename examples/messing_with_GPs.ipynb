{
 "cells": [
  {
   "cell_type": "code",
   "execution_count": 1,
   "metadata": {},
   "outputs": [],
   "source": [
    "import cometcurve as cc\n",
    "import matplotlib.pyplot as plt\n",
    "import numpy as np\n",
    "import pymc3 as pm\n",
    "from theano import tensor as tt\n",
    "import exoplanet as xo"
   ]
  },
  {
   "cell_type": "code",
   "execution_count": 2,
   "metadata": {},
   "outputs": [
    {
     "name": "stdout",
     "output_type": "stream",
     "text": [
      "Obtaining ephemeris for 2019%20Y4 from JPL/Horizons...\n",
      "Obtaining ephemeris for 1962%20C1 from JPL/Horizons...\n",
      "Obtaining ephemeris for 1962%20C1 from JPL/Horizons...\n"
     ]
    },
    {
     "name": "stderr",
     "output_type": "stream",
     "text": [
      "/Users/tsbarcl2/opt/anaconda3/lib/python3.7/site-packages/pandas/core/ops/array_ops.py:253: FutureWarning: elementwise comparison failed; returning scalar instead, but in the future will perform elementwise comparison\n",
      "  res_values = method(rvalues)\n"
     ]
    }
   ],
   "source": [
    "\n",
    "cm = cc.CometModel(comet=\"2019 Y4\", start=\"2020-02-01\", stop=\"2020-07-01\")\n",
    "cm = cc.CometModel(comet=\"1962 C1\", start=\"1962-01-01\", stop=\"1962-12-01\")\n",
    "# cm = cc.CometModel(cobs_id=\"C/2006 P1\", start=\"2006-01-01\", stop=\"2006-12-31\",\n",
    "#               horizons_id=\"C/2006 P1\")\n",
    "cm.obs = cc.read_cobs(comet=\"1962 C1\", years=1962)\n",
    "\n",
    "cm2 = cc.CometModel(comet=\"1962 C1\", start=\"1962-01-01\", stop=\"1962-12-01\")\n",
    "# cm = cc.CometModel(cobs_id=\"C/2006 P1\", start=\"2006-01-01\", stop=\"2006-12-31\",\n",
    "#               horizons_id=\"C/2006 P1\")\n",
    "cm2.obs = cc.read_cobs(comet=\"1962 C1\", years=1962)"
   ]
  },
  {
   "cell_type": "code",
   "execution_count": 6,
   "metadata": {},
   "outputs": [
    {
     "data": {
      "text/plain": [
       "<matplotlib.collections.PathCollection at 0x1a31a206d0>"
      ]
     },
     "execution_count": 6,
     "metadata": {},
     "output_type": "execute_result"
    },
    {
     "data": {
      "image/png": "[encoded data removed]",
      "text/plain": [
       "<Figure size 432x288 with 1 Axes>"
      ]
     },
     "metadata": {
      "needs_background": "light"
     },
     "output_type": "display_data"
    }
   ],
   "source": [
    "cm.obs.data = cm.obs.data.loc[cm.obs.data.time < '1962-04']\n",
    "\n",
    "\n",
    "idx = np.argsort(cm.obs.data.date)\n",
    "plt.scatter(cm.obs.data.time, cm.obs.data.magnitude)\n",
    "# # # cc.read_cobs(comet=\"2012 S1\", years=('2011','2012','2013')).data\n",
    "\n"
   ]
  },
  {
   "cell_type": "code",
   "execution_count": 7,
   "metadata": {},
   "outputs": [],
   "source": [
    "cm.plot_times = np.arange(cm.ephem.date.values[0],\n",
    "                      cm.ephem.date.values[-1] + 1_000_000_000_000_000,\n",
    "                      np.timedelta64(12, 'h'))"
   ]
  },
  {
   "cell_type": "code",
   "execution_count": 8,
   "metadata": {},
   "outputs": [],
   "source": [
    "def create_pymc_model(cm, min_observations=0):\n",
    "    \"\"\"Returns a PyMC3 model.\"\"\"\n",
    "    dfobs = cm.obs.data[cm.obs.data.observations > min_observations]\n",
    "    mask = np.ones_like(dfobs, dtype=bool)\n",
    "\n",
    "    with pm.Model() as model:\n",
    "        delta = cm.earth_distance_func(dfobs.time.values)\n",
    "        npts = np.shape(dfobs.time.values)[0]\n",
    "        r = cm.sun_distance_func(dfobs.time.values)\n",
    "        # n = pm.Normal('n', mu=3.9, sigma=1.0)  # activity parameter\n",
    "        n = pm.Gamma('n', mu=3.9, sigma=1.0)  # activity parameter\n",
    "        # h = pm.Normal('h', mu=5.6, sigma=2.6)  # absolute magnitude\n",
    "        h = pm.Gamma('h', mu=5.6, sigma=2.6)\n",
    "\n",
    "        model_mag = comet_magnitude_power_law(h=h, n=n, delta=delta, r=r)\n",
    "\n",
    "\n",
    "#         beta = 0.47 + pm.HalfNormal('beta', sigma=0.02)\n",
    "#         obsmag = pm.Cauchy('obsmag', alpha=model_mag,\n",
    "#                            beta=beta, observed=dfobs.magnitude)\n",
    "        \n",
    "        logw0 = pm.Normal(\"logw0\", mu=-2, sd=1)\n",
    "        logSw4 = pm.Normal(\"logSw4\", mu=0, sd=10)\n",
    "        logs2 = pm.Normal(\"logs2\", mu=2 * np.log(0.5), sd=5)\n",
    "        kernel = xo.gp.terms.SHOTerm(log_Sw4=logSw4, log_w0=logw0, Q=1 / np.sqrt(2))\n",
    "        tval_us = cm.obs.data.time.values.astype('float64') / 1.E9 / 24/60/60\n",
    "        idx = np.argsort(tval_us)\n",
    "        gp = xo.gp.GP(kernel, tval_us[idx],\n",
    "                      tt.exp(logs2) + tt.zeros(npts))\n",
    "        pm.DensityDist(\"obsmag\", gp.log_likelihood, observed=dfobs.magnitude.values[idx] - model_mag[idx])\n",
    "        pm.Deterministic(\"gp_pred\", gp.predict())\n",
    "        \n",
    "        delta_plot = cm.earth_distance_func(cm.plot_times)\n",
    "        r_plot = cm.sun_distance_func(cm.plot_times)\n",
    "        model_mag_plot = comet_magnitude_power_law(h=h, n=n, delta=delta_plot, r=r_plot)\n",
    "        pm.Deterministic('model_mag', model_mag_plot)\n",
    "        tvalp = np.sort(cm.plot_times.astype('float64') / 1.E9 / 24/60/60)\n",
    "        pm.Deterministic(\"gp_pred_plot\", gp.predict(tvalp))\n",
    "        \n",
    "        pm.Deterministic('peak_mag', tt.min(model_mag_plot))\n",
    "\n",
    "    return model\n",
    "\n",
    "\n",
    "def comet_magnitude_power_law(h=10., n=4., delta=1., r=1.):\n",
    "    \"\"\"The conventional power-law formula to predict a comet's brightness.\n",
    "\n",
    "    Parameters\n",
    "    ----------\n",
    "    h : float\n",
    "        Absolute magnitude.\n",
    "    n : float\n",
    "        Activity parameter.\n",
    "    delta : float\n",
    "        Comet's geocentric distance in AU.\n",
    "    r : float\n",
    "        Comet's heliocentric distance in AU.\n",
    "    \"\"\"\n",
    "    return h + 5*np.log10(delta) + 2.5*n*np.log10(r)\n",
    "\n"
   ]
  },
  {
   "cell_type": "code",
   "execution_count": 9,
   "metadata": {},
   "outputs": [
    {
     "data": {
      "text/plain": [
       "n_log__     0.44\n",
       "h_log__    -0.17\n",
       "logw0      -0.92\n",
       "logSw4     -3.22\n",
       "logs2      -2.53\n",
       "obsmag    -39.68\n",
       "Name: Log-probability of test_point, dtype: float64"
      ]
     },
     "execution_count": 9,
     "metadata": {},
     "output_type": "execute_result"
    }
   ],
   "source": [
    "model = create_pymc_model(cm)\n",
    "\n",
    "model.check_test_point()\n",
    "\n"
   ]
  },
  {
   "cell_type": "code",
   "execution_count": 10,
   "metadata": {},
   "outputs": [
    {
     "name": "stderr",
     "output_type": "stream",
     "text": [
      "optimizing logp for variables: [logs2, logSw4, logw0, h, n]\n",
      "26it [00:01, 24.89it/s, logp=-2.275983e+01] \n",
      "message: Optimization terminated successfully.\n",
      "logp: -46.08114499182873 -> -22.759828882819278\n",
      "Multiprocess sampling (4 chains in 4 jobs)\n",
      "NUTS: [logs2, logSw4, logw0, h, n]\n",
      "Sampling 4 chains, 38 divergences: 100%|██████████| 10000/10000 [00:20<00:00, 493.58draws/s]\n",
      "There were 5 divergences after tuning. Increase `target_accept` or reparameterize.\n",
      "There were 13 divergences after tuning. Increase `target_accept` or reparameterize.\n",
      "The acceptance probability does not match the target. It is 0.8339022683673676, but should be close to 0.9. Try to increase the number of tuning steps.\n",
      "There were 13 divergences after tuning. Increase `target_accept` or reparameterize.\n",
      "The acceptance probability does not match the target. It is 0.7726366476171121, but should be close to 0.9. Try to increase the number of tuning steps.\n",
      "There were 7 divergences after tuning. Increase `target_accept` or reparameterize.\n",
      "The acceptance probability does not match the target. It is 0.7102954470972258, but should be close to 0.9. Try to increase the number of tuning steps.\n",
      "The number of effective samples is smaller than 10% for some parameters.\n"
     ]
    }
   ],
   "source": [
    "with model:\n",
    "    map_soln = xo.optimize()\n",
    "    \n",
    "    trace = pm.sample(draws=2000, start=map_soln, step=xo.get_dense_nuts_step(target_accept=0.9))\n",
    "\n"
   ]
  },
  {
   "cell_type": "code",
   "execution_count": 11,
   "metadata": {},
   "outputs": [
    {
     "data": {
      "text/html": [
       "<div>\n",
       "<style scoped>\n",
       "    .dataframe tbody tr th:only-of-type {\n",
       "        vertical-align: middle;\n",
       "    }\n",
       "\n",
       "    .dataframe tbody tr th {\n",
       "        vertical-align: top;\n",
       "    }\n",
       "\n",
       "    .dataframe thead th {\n",
       "        text-align: right;\n",
       "    }\n",
       "</style>\n",
       "<table border=\"1\" class=\"dataframe\">\n",
       "  <thead>\n",
       "    <tr style=\"text-align: right;\">\n",
       "      <th></th>\n",
       "      <th>mean</th>\n",
       "      <th>sd</th>\n",
       "      <th>hpd_3%</th>\n",
       "      <th>hpd_97%</th>\n",
       "      <th>mcse_mean</th>\n",
       "      <th>mcse_sd</th>\n",
       "      <th>ess_mean</th>\n",
       "      <th>ess_sd</th>\n",
       "      <th>ess_bulk</th>\n",
       "      <th>ess_tail</th>\n",
       "      <th>r_hat</th>\n",
       "    </tr>\n",
       "  </thead>\n",
       "  <tbody>\n",
       "    <tr>\n",
       "      <th>logSw4</th>\n",
       "      <td>-7.572</td>\n",
       "      <td>6.942</td>\n",
       "      <td>-19.890</td>\n",
       "      <td>2.463</td>\n",
       "      <td>0.297</td>\n",
       "      <td>0.210</td>\n",
       "      <td>547.0</td>\n",
       "      <td>547.0</td>\n",
       "      <td>516.0</td>\n",
       "      <td>1379.0</td>\n",
       "      <td>1.01</td>\n",
       "    </tr>\n",
       "    <tr>\n",
       "      <th>logw0</th>\n",
       "      <td>-1.164</td>\n",
       "      <td>1.213</td>\n",
       "      <td>-3.254</td>\n",
       "      <td>0.880</td>\n",
       "      <td>0.044</td>\n",
       "      <td>0.031</td>\n",
       "      <td>768.0</td>\n",
       "      <td>768.0</td>\n",
       "      <td>772.0</td>\n",
       "      <td>2122.0</td>\n",
       "      <td>1.01</td>\n",
       "    </tr>\n",
       "    <tr>\n",
       "      <th>h</th>\n",
       "      <td>6.578</td>\n",
       "      <td>0.398</td>\n",
       "      <td>6.048</td>\n",
       "      <td>7.131</td>\n",
       "      <td>0.016</td>\n",
       "      <td>0.012</td>\n",
       "      <td>585.0</td>\n",
       "      <td>585.0</td>\n",
       "      <td>1698.0</td>\n",
       "      <td>1074.0</td>\n",
       "      <td>1.00</td>\n",
       "    </tr>\n",
       "    <tr>\n",
       "      <th>n</th>\n",
       "      <td>3.771</td>\n",
       "      <td>0.444</td>\n",
       "      <td>2.874</td>\n",
       "      <td>4.574</td>\n",
       "      <td>0.011</td>\n",
       "      <td>0.007</td>\n",
       "      <td>1751.0</td>\n",
       "      <td>1751.0</td>\n",
       "      <td>1730.0</td>\n",
       "      <td>1313.0</td>\n",
       "      <td>1.00</td>\n",
       "    </tr>\n",
       "    <tr>\n",
       "      <th>logs2</th>\n",
       "      <td>-1.511</td>\n",
       "      <td>1.160</td>\n",
       "      <td>-3.962</td>\n",
       "      <td>-0.004</td>\n",
       "      <td>0.061</td>\n",
       "      <td>0.045</td>\n",
       "      <td>364.0</td>\n",
       "      <td>332.0</td>\n",
       "      <td>507.0</td>\n",
       "      <td>501.0</td>\n",
       "      <td>1.01</td>\n",
       "    </tr>\n",
       "  </tbody>\n",
       "</table>\n",
       "</div>"
      ],
      "text/plain": [
       "         mean     sd  hpd_3%  hpd_97%  mcse_mean  mcse_sd  ess_mean  ess_sd  \\\n",
       "logSw4 -7.572  6.942 -19.890    2.463      0.297    0.210     547.0   547.0   \n",
       "logw0  -1.164  1.213  -3.254    0.880      0.044    0.031     768.0   768.0   \n",
       "h       6.578  0.398   6.048    7.131      0.016    0.012     585.0   585.0   \n",
       "n       3.771  0.444   2.874    4.574      0.011    0.007    1751.0  1751.0   \n",
       "logs2  -1.511  1.160  -3.962   -0.004      0.061    0.045     364.0   332.0   \n",
       "\n",
       "        ess_bulk  ess_tail  r_hat  \n",
       "logSw4     516.0    1379.0   1.01  \n",
       "logw0      772.0    2122.0   1.01  \n",
       "h         1698.0    1074.0   1.00  \n",
       "n         1730.0    1313.0   1.00  \n",
       "logs2      507.0     501.0   1.01  "
      ]
     },
     "execution_count": 11,
     "metadata": {},
     "output_type": "execute_result"
    }
   ],
   "source": [
    "pm.summary(trace, var_names=['logSw4', 'logw0', 'h', 'n', 'logs2'])\n",
    "\n",
    "# \tmean\tsd\thpd_3%\thpd_97%\tmcse_mean\tmcse_sd\tess_mean\tess_sd\tess_bulk\tess_tail\tr_hat\n",
    "# logSw4\t-9.387\t1.882\t-12.944\t-5.981\t0.031\t0.022\t3582.0\t3582.0\t3670.0\t3870.0\t1.0\n",
    "# logw0\t-3.158\t0.749\t-4.558\t-1.724\t0.015\t0.010\t2615.0\t2615.0\t2615.0\t3410.0\t1.0\n",
    "# h\t6.057\t0.818\t4.385\t7.573\t0.018\t0.013\t2056.0\t2056.0\t2952.0\t1693.0\t1.0\n",
    "# n\t3.649\t0.462\t2.785\t4.570\t0.008\t0.005\t3732.0\t3732.0\t3777.0\t3142.0\t1.0\n",
    "# logs2\t-1.394\t0.176\t-1.726\t-1.073\t0.003\t0.002\t4785.0\t4785.0\t4790.0\t4725.0\t1.0"
   ]
  },
  {
   "cell_type": "code",
   "execution_count": 14,
   "metadata": {},
   "outputs": [
    {
     "data": {
      "image/png": "[encoded data removed]",
      "text/plain": [
       "<Figure size 648x360 with 1 Axes>"
      ]
     },
     "metadata": {
      "needs_background": "light"
     },
     "output_type": "display_data"
    }
   ],
   "source": [
    "# pcts = np.percentile(trace['model_mag'], axis=0, q=[5, 50, 95])\n",
    "pcts = np.percentile((trace['model_mag'] + trace['gp_pred_plot']), axis=0, q=[5, 50, 95])\n",
    "fig = plt.figure(figsize=[9,5])\n",
    "# for idx in range(0, len(trace.get_values('n')), int(len(trace.get_values('n'))/400)):\n",
    "#     plt.plot(cm.plot_times, (trace['model_mag'] + trace['gp_pred_plot'])[idx], alpha=0.02, color='k')\n",
    "\n",
    "\n",
    "\n",
    "plt.fill_between(cm.plot_times, pcts[0], pcts[2], alpha=0.1)\n",
    "\n",
    "plt.scatter(cm.obs.data[cm.obs.data.visual].time,\n",
    "           cm.obs.data[cm.obs.data.visual].magnitude,\n",
    "           marker='+', lw=0.7, s=40, label=\"Visual observations\",\n",
    "           c='#2980b9', alpha=0.8, zorder=50)\n",
    "plt.scatter(cm.obs.data[~cm.obs.data.visual].time,\n",
    "           cm.obs.data[~cm.obs.data.visual].magnitude,\n",
    "           marker='x', lw=0.7, s=30, label=\"CCD observations\",\n",
    "           c='#c0392b', alpha=0.8, zorder=50)\n",
    "\n",
    "\n",
    "plt.scatter(cm2.obs.data[cm2.obs.data.visual].time,\n",
    "           cm2.obs.data[cm2.obs.data.visual].magnitude,\n",
    "           marker='+', lw=0.7, s=40, label=\"Visual observations\",\n",
    "           c='#2980b9', alpha=0.8, zorder=50)\n",
    "plt.scatter(cm2.obs.data[~cm2.obs.data.visual].time,\n",
    "           cm2.obs.data[~cm2.obs.data.visual].magnitude,\n",
    "           marker='x', lw=0.7, s=30, label=\"CCD observations\",\n",
    "           c='#c0392b', alpha=0.8, zorder=50)\n",
    "\n",
    "plt.ylim([int(np.max(pcts[1])+3), int(np.min(pcts[1]-6))])\n",
    "peak = np.percentile(trace['peak_mag'], [5, 50, 95])\n",
    "plt.title(f'Peak brightness: {peak[1]:.2f} (90% confidence: {peak[2]:.2f} - {peak[0]:.2f})')\n",
    "\n",
    "fig.tight_layout()"
   ]
  },
  {
   "cell_type": "code",
   "execution_count": 69,
   "metadata": {},
   "outputs": [],
   "source": [
    "a = np.percentile((trace['model_mag']), axis=0, q=[5, 50, 95])\n",
    "b = np.percentile((trace['gp_pred_plot']), axis=0, q=[5, 50, 95])"
   ]
  },
  {
   "cell_type": "code",
   "execution_count": 70,
   "metadata": {},
   "outputs": [
    {
     "data": {
      "text/plain": [
       "<matplotlib.legend.Legend at 0x1e69d090d0>"
      ]
     },
     "execution_count": 70,
     "metadata": {},
     "output_type": "execute_result"
    },
    {
     "data": {
      "image/png": "[encoded data removed]",
      "text/plain": [
       "<Figure size 432x288 with 1 Axes>"
      ]
     },
     "metadata": {
      "needs_background": "light"
     },
     "output_type": "display_data"
    }
   ],
   "source": [
    "plt.ylim([int(np.max(pcts[1])+3), int(np.min(pcts[1]-6))])\n",
    "plt.plot(cm.plot_times, a[1], ':', label='power law model')\n",
    "plt.plot(cm.plot_times, b[1]+10, ':', label='GP model')\n",
    "plt.plot(cm.plot_times, pcts[1], color='k')\n",
    "plt.legend()"
   ]
  },
  {
   "cell_type": "code",
   "execution_count": null,
   "metadata": {},
   "outputs": [],
   "source": []
  },
  {
   "cell_type": "code",
   "execution_count": null,
   "metadata": {},
   "outputs": [],
   "source": []
  },
  {
   "cell_type": "code",
   "execution_count": null,
   "metadata": {},
   "outputs": [],
   "source": []
  },
  {
   "cell_type": "code",
   "execution_count": null,
   "metadata": {},
   "outputs": [],
   "source": []
  },
  {
   "cell_type": "code",
   "execution_count": null,
   "metadata": {},
   "outputs": [],
   "source": []
  },
  {
   "cell_type": "code",
   "execution_count": null,
   "metadata": {},
   "outputs": [],
   "source": []
  },
  {
   "cell_type": "code",
   "execution_count": null,
   "metadata": {},
   "outputs": [],
   "source": [
    "\n"
   ]
  },
  {
   "cell_type": "code",
   "execution_count": null,
   "metadata": {},
   "outputs": [],
   "source": []
  },
  {
   "cell_type": "code",
   "execution_count": null,
   "metadata": {},
   "outputs": [],
   "source": []
  },
  {
   "cell_type": "code",
   "execution_count": null,
   "metadata": {},
   "outputs": [],
   "source": []
  },
  {
   "cell_type": "code",
   "execution_count": null,
   "metadata": {},
   "outputs": [],
   "source": []
  },
  {
   "cell_type": "code",
   "execution_count": null,
   "metadata": {},
   "outputs": [],
   "source": []
  }
 ],
 "metadata": {
  "kernelspec": {
   "display_name": "Python 3",
   "language": "python",
   "name": "python3"
  },
  "language_info": {
   "codemirror_mode": {
    "name": "ipython",
    "version": 3
   },
   "file_extension": ".py",
   "mimetype": "text/x-python",
   "name": "python",
   "nbconvert_exporter": "python",
   "pygments_lexer": "ipython3",
   "version": "3.7.4"
  }
 },
 "nbformat": 4,
 "nbformat_minor": 4
}
